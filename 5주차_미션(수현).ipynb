{
  "nbformat": 4,
  "nbformat_minor": 0,
  "metadata": {
    "colab": {
      "name": "5주차 미션(수현).ipynb",
      "provenance": [],
      "authorship_tag": "ABX9TyPMacYv6Uh9b4kllq2jjGSV",
      "include_colab_link": true
    },
    "kernelspec": {
      "name": "python3",
      "display_name": "Python 3"
    },
    "language_info": {
      "name": "python"
    }
  },
  "cells": [
    {
      "cell_type": "markdown",
      "metadata": {
        "id": "view-in-github",
        "colab_type": "text"
      },
      "source": [
        "<a href=\"https://colab.research.google.com/github/suhyunz/2022test/blob/main/5%EC%A3%BC%EC%B0%A8_%EB%AF%B8%EC%85%98(%EC%88%98%ED%98%84).ipynb\" target=\"_parent\"><img src=\"https://colab.research.google.com/assets/colab-badge.svg\" alt=\"Open In Colab\"/></a>"
      ]
    },
    {
      "cell_type": "markdown",
      "source": [
        "# 분리배출 방법 안내하기\n",
        "### 교실에서 분리배출을 할 때, 크게 플라스틱류, 캔류, 종이류, 일반쓰레기로 나눠서 합니다. 그런데, 학생들이 각 물건들을 어디에 버려야 하는지 모르는 경우가 종종 있어서, 구체적인 물건을 입력했을 때, 그 물건을 배출하는 방법을 안내하는 프로그램이 있으면 좋을 것 같다는 생각을 해 보았습니다.\n",
        "\n",
        "###### 출처: 환경부"
      ],
      "metadata": {
        "id": "XQYj2osy_9TW"
      }
    },
    {
      "cell_type": "markdown",
      "source": [
        "#분리배출 왜 해야 하나요?\n",
        "###국내에서 버려지는 쓰레기 종량제 봉투 속을 살펴 보면 10개 중 7개는 재활용품으로 분리 배출 할 수 있는 자원이라고 해요. \n",
        "###분리배출을 제대로 하면 연간 약 5억 매의 종량제 봉투를 절약할 수 있고, 약 3천억 원 상당의 종량제 봉투 구매비용을 절약할 수 있다고 합니다."
      ],
      "metadata": {
        "id": "afPau5q7x8S8"
      }
    },
    {
      "cell_type": "code",
      "source": [
        "news = '신문'\n",
        "book = ['책', '책자', '노트', '공책']\n",
        "box = ['상자', '박스']\n",
        "can = ['캔음료', '스팸통', '통조림캔']\n",
        "plastic = ['물병', '플라스틱']\n",
        "vinyl = ['사탕껍질', '초콜릿껍질', '과자봉지', '봉지']\n",
        "etc = ['전구', '건전지','옷']\n",
        "\n",
        "trash = input('버리려는 물건이 무엇입니까?')\n",
        "\n",
        "if trash == news :\n",
        "  print('물기에 젖지 않도록 하고, 반듯하게 펴서 종이류에 차곡차곡 쌓아 주세요.')\n",
        "if trash in box :\n",
        "    print('테이프 등을 제거한 후 종이류에 버려 주세요.')\n",
        "if trash in book :\n",
        "  print('스프링 등과 같은 것을 제거한 후 종이류에 버려 주세요.')\n",
        "if trash in can :\n",
        "  print('내용물을 비우고 물로 헹구는 등 다른 물질을 제거하여 캔류에 버려 주세요.')\n",
        "if trash in plastic :\n",
        "  print('내용물을 비우고 물로 헹구는 등 다른 물질을 제거하여 플라스틱류에 버려 주세요. 혹시 스티커와 같이 다른 재질이 있다면 제거한 후 버려 주세요.')\n",
        "if trash in vinyl :\n",
        "  print('내용물을 비우고 물로 헹구는 등 다른 물질을 제거하여 비닐류에 버려 주세요. 흩날리지 않도록 주의해 주세요.')\n",
        "if trash in etc : \n",
        "  print('따로 마련된 수거함에 넣어 주세요.')\n",
        "else :\n",
        "  print('일반쓰레기에 버려 주세요. 혹시라도 어디에 버릴지 헷갈린다면 선생님에게 물어보고 버립시다!^^')"
      ],
      "metadata": {
        "id": "z_D8slp-x2JR"
      },
      "execution_count": null,
      "outputs": []
    }
  ]
}